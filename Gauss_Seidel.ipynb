{
  "nbformat": 4,
  "nbformat_minor": 0,
  "metadata": {
    "colab": {
      "provenance": [],
      "authorship_tag": "ABX9TyOCCcIClVJy018wMuSZT9T+",
      "include_colab_link": true
    },
    "kernelspec": {
      "name": "python3",
      "display_name": "Python 3"
    },
    "language_info": {
      "name": "python"
    }
  },
  "cells": [
    {
      "cell_type": "markdown",
      "metadata": {
        "id": "view-in-github",
        "colab_type": "text"
      },
      "source": [
        "<a href=\"https://colab.research.google.com/github/CAMI2-bit/Ecuaciones-diferenciales-parciales/blob/main/Gauss_Seidel.ipynb\" target=\"_parent\"><img src=\"https://colab.research.google.com/assets/colab-badge.svg\" alt=\"Open In Colab\"/></a>"
      ]
    },
    {
      "cell_type": "markdown",
      "source": [
        "##GAUSS SEIDEL"
      ],
      "metadata": {
        "id": "TGD7hjmNHHh5"
      }
    },
    {
      "cell_type": "markdown",
      "source": [
        "Importamos las librerias necesarias"
      ],
      "metadata": {
        "id": "7arq2q7sLcBS"
      }
    },
    {
      "cell_type": "code",
      "source": [
        "import numpy as np\n",
        "import pandas as pd"
      ],
      "metadata": {
        "id": "Du7j5iDzLk-f"
      },
      "execution_count": 10,
      "outputs": []
    },
    {
      "cell_type": "markdown",
      "source": [
        "Definimos el problema con los parametros necesarios"
      ],
      "metadata": {
        "id": "qn9xfszCMVI3"
      }
    },
    {
      "cell_type": "markdown",
      "source": [
        "![Captura de pantalla 2025-09-26 212053.png](data:image/png;base64,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)"
      ],
      "metadata": {
        "id": "H2-CfMf9LsNF"
      }
    },
    {
      "cell_type": "code",
      "source": [
        "h = 0.5\n",
        "n = 2\n",
        "N = int(n/h) + 1\n",
        "tol = 1e-6\n",
        "max_iter = 50"
      ],
      "metadata": {
        "id": "0oJ7UQmCMLML"
      },
      "execution_count": 11,
      "outputs": []
    },
    {
      "cell_type": "markdown",
      "source": [
        "Condiciones de frontera"
      ],
      "metadata": {
        "id": "N2c_dhBzMJYn"
      }
    },
    {
      "cell_type": "code",
      "source": [
        "def frontera(x, y):\n",
        "    #Lado izquierdo\n",
        "    if x == 0:\n",
        "        return 0.0\n",
        "    #Lado derecho\n",
        "    if x == 2:\n",
        "        return y*(2-y)\n",
        "\n",
        "    if y == 0:\n",
        "        return 0.0\n",
        "\n",
        "    if y == 2:\n",
        "        if 0 < x < 1:\n",
        "            return x\n",
        "        else:\n",
        "            return 2-x\n",
        "    return None\n"
      ],
      "metadata": {
        "id": "W-5QV7DFMdes"
      },
      "execution_count": 12,
      "outputs": []
    },
    {
      "cell_type": "markdown",
      "source": [
        "Construimos la malla"
      ],
      "metadata": {
        "id": "RsH6qsz-MlJZ"
      }
    },
    {
      "cell_type": "code",
      "source": [
        "xs = np.linspace(0, 2, N)\n",
        "ys = np.linspace(0, 2, N)\n",
        "\n",
        "#Nodos interiores\n",
        "interiores = []\n",
        "for j in range(1, N-1):       # y\n",
        "    for i in range(1, N-1):   # x\n",
        "        interiores.append((i, j))\n",
        "\n",
        "\n",
        "num_incognitas = len(interiores)\n",
        "\n"
      ],
      "metadata": {
        "id": "qlrI8gGqMnMR"
      },
      "execution_count": 13,
      "outputs": []
    },
    {
      "cell_type": "markdown",
      "source": [
        "Implemetamos el metodo Gauss Seidel y calculamos el error"
      ],
      "metadata": {
        "id": "_rgDQsyVM6pw"
      }
    },
    {
      "cell_type": "code",
      "source": [
        "mapa = {pt: k for k, pt in enumerate(interiores)}\n",
        "\n",
        "x = np.zeros(num_incognitas)\n",
        "tabla = []\n",
        "\n",
        "for it in range(1, max_iter+1):\n",
        "    x_old = x.copy()\n",
        "    for (i, j), k in mapa.items():\n",
        "\n",
        "        suma = 0.0\n",
        "\n",
        "        if (i-1, j) in mapa:\n",
        "            suma += x[mapa[(i-1, j)]]\n",
        "        else:\n",
        "            suma += frontera(xs[i-1], ys[j])\n",
        "\n",
        "        if (i+1, j) in mapa:\n",
        "            suma += x[mapa[(i+1, j)]]\n",
        "        else:\n",
        "            suma += frontera(xs[i+1], ys[j])\n",
        "\n",
        "        if (i, j-1) in mapa:\n",
        "            suma += x[mapa[(i, j-1)]]\n",
        "        else:\n",
        "            suma += frontera(xs[i], ys[j-1])\n",
        "\n",
        "        if (i, j+1) in mapa:\n",
        "            suma += x[mapa[(i, j+1)]]\n",
        "        else:\n",
        "            suma += frontera(xs[i], ys[j+1])\n",
        "\n",
        "        x[k] = 0.25 * suma\n",
        "\n",
        "    #Error\n",
        "    err = np.linalg.norm(x - x_old, ord=np.inf)\n",
        "    fila = [it] + list(x) + [err]\n",
        "    tabla.append(fila)\n",
        "    if err < tol:\n",
        "        break"
      ],
      "metadata": {
        "id": "fakuQ9YNNAd2"
      },
      "execution_count": 17,
      "outputs": []
    },
    {
      "cell_type": "markdown",
      "source": [
        "Mostrando los resultados"
      ],
      "metadata": {
        "id": "TK73ssESNI_9"
      }
    },
    {
      "cell_type": "code",
      "source": [
        "cols = [\"Iteración\"] + [f\"x{i+1}\" for i in range(num_incognitas)] + [\"Error\"]\n",
        "df = pd.DataFrame(tabla, columns=cols)\n",
        "print(\"Método de Gauss-Seidel\")\n",
        "print(df.to_string(index=False))"
      ],
      "metadata": {
        "colab": {
          "base_uri": "https://localhost:8080/"
        },
        "id": "N95M3HQVNnQc",
        "outputId": "0b356cbd-86e8-4b15-96c0-dce349007b03"
      },
      "execution_count": 18,
      "outputs": [
        {
          "output_type": "stream",
          "name": "stdout",
          "text": [
            "Método de Gauss-Seidel\n",
            " Iteración       x1       x2       x3       x4       x5       x6       x7       x8       x9        Error\n",
            "         1 0.000000 0.000000 0.187500 0.000000 0.000000 0.296875 0.125000 0.281250 0.457031 4.570312e-01\n",
            "         2 0.000000 0.046875 0.273438 0.031250 0.164062 0.473633 0.203125 0.456055 0.544922 1.767578e-01\n",
            "         3 0.019531 0.114258 0.334473 0.096680 0.285156 0.541138 0.263184 0.523315 0.578613 1.210938e-01\n",
            "         4 0.052734 0.168091 0.364807 0.150269 0.345703 0.572281 0.293396 0.554428 0.594177 6.054688e-02\n",
            "         5 0.079590 0.197525 0.379951 0.179672 0.375977 0.587526 0.308525 0.569670 0.601799 3.027344e-02\n",
            "         6 0.094299 0.212557 0.387521 0.194700 0.391113 0.595108 0.316092 0.577251 0.605590 1.513672e-02\n",
            "         7 0.101814 0.220112 0.391305 0.202255 0.398682 0.598894 0.319877 0.581037 0.607483 7.568359e-03\n",
            "         8 0.105592 0.223895 0.393197 0.206037 0.402466 0.600786 0.321769 0.582929 0.608429 3.784180e-03\n",
            "         9 0.107483 0.225787 0.394143 0.207929 0.404358 0.601733 0.322715 0.583875 0.608902 1.892090e-03\n",
            "        10 0.108429 0.226733 0.394616 0.208875 0.405304 0.602206 0.323188 0.584348 0.609138 9.460449e-04\n",
            "        11 0.108902 0.227206 0.394853 0.209348 0.405777 0.602442 0.323424 0.584585 0.609257 4.730225e-04\n",
            "        12 0.109138 0.227442 0.394971 0.209585 0.406013 0.602560 0.323542 0.584703 0.609316 2.365112e-04\n",
            "        13 0.109257 0.227560 0.395030 0.209703 0.406132 0.602619 0.323602 0.584762 0.609345 1.182556e-04\n",
            "        14 0.109316 0.227619 0.395060 0.209762 0.406191 0.602649 0.323631 0.584792 0.609360 5.912781e-05\n",
            "        15 0.109345 0.227649 0.395075 0.209792 0.406220 0.602664 0.323646 0.584807 0.609368 2.956390e-05\n",
            "        16 0.109360 0.227664 0.395082 0.209807 0.406235 0.602671 0.323653 0.584814 0.609371 1.478195e-05\n",
            "        17 0.109368 0.227671 0.395086 0.209814 0.406243 0.602675 0.323657 0.584818 0.609373 7.390976e-06\n",
            "        18 0.109371 0.227675 0.395087 0.209818 0.406246 0.602677 0.323659 0.584820 0.609374 3.695488e-06\n",
            "        19 0.109373 0.227677 0.395088 0.209820 0.406248 0.602678 0.323660 0.584821 0.609375 1.847744e-06\n",
            "        20 0.109374 0.227678 0.395089 0.209821 0.406249 0.602678 0.323660 0.584821 0.609375 9.238720e-07\n"
          ]
        }
      ]
    }
  ]
}