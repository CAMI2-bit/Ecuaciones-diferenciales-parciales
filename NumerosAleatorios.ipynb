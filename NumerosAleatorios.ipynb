{
  "nbformat": 4,
  "nbformat_minor": 0,
  "metadata": {
    "colab": {
      "provenance": [],
      "authorship_tag": "ABX9TyN6DsikjriIWQrHgGSQIGJm",
      "include_colab_link": true
    },
    "kernelspec": {
      "name": "python3",
      "display_name": "Python 3"
    },
    "language_info": {
      "name": "python"
    }
  },
  "cells": [
    {
      "cell_type": "markdown",
      "metadata": {
        "id": "view-in-github",
        "colab_type": "text"
      },
      "source": [
        "<a href=\"https://colab.research.google.com/github/CAMI2-bit/Ecuaciones-diferenciales-parciales/blob/main/NumerosAleatorios.ipynb\" target=\"_parent\"><img src=\"https://colab.research.google.com/assets/colab-badge.svg\" alt=\"Open In Colab\"/></a>"
      ]
    },
    {
      "cell_type": "code",
      "execution_count": 1,
      "metadata": {
        "id": "-65epS8QWbT0"
      },
      "outputs": [],
      "source": [
        "import numpy as np\n",
        "from tabulate import tabulate\n",
        "a = 4\n",
        "c = 7\n",
        "m = 22\n",
        "x = 3\n",
        "\n",
        "def generar_numeros(x,a,c,m,n):\n",
        "\n",
        "  num = []\n",
        "  tabla= []\n",
        "  for i in range(n):\n",
        "   x = (a*x + c) % m\n",
        "   num.append(x)\n",
        "   tabla.append( [i+1,x,f\"{x/m:.4f}\"])\n",
        "   print(tabulate(tabla, headers=[\"iteracion\",\"x\",\"x/m\"],tablefmt=\"grid\"))\n",
        "  return num\n",
        "\n",
        "numeros_generados = generar_numeros(x,a,c,m,10)\n",
        "\n"
      ]
    }
  ]
}