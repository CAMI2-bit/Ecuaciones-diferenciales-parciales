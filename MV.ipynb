{
  "nbformat": 4,
  "nbformat_minor": 0,
  "metadata": {
    "colab": {
      "provenance": [],
      "authorship_tag": "ABX9TyOOyBtx7sayMswWtKf9tp9V",
      "include_colab_link": true
    },
    "kernelspec": {
      "name": "python3",
      "display_name": "Python 3"
    },
    "language_info": {
      "name": "python"
    }
  },
  "cells": [
    {
      "cell_type": "markdown",
      "metadata": {
        "id": "view-in-github",
        "colab_type": "text"
      },
      "source": [
        "<a href=\"https://colab.research.google.com/github/CAMI2-bit/Ecuaciones-diferenciales-parciales/blob/main/MV.ipynb\" target=\"_parent\"><img src=\"https://colab.research.google.com/assets/colab-badge.svg\" alt=\"Open In Colab\"/></a>"
      ]
    },
    {
      "cell_type": "code",
      "source": [
        "import numpy as np\n",
        "from scipy.integrate import dblquad\n",
        "\n",
        "# Parámetros de la membrana\n",
        "a, b = 4, 2       # dimensiones del rectángulo\n",
        "c = 1             # velocidad de propagación\n",
        "\n",
        "# Función de desplazamiento inicial f(x, y)\n",
        "def f(x, y):\n",
        "    return 0.1 * (4*x - x**2) * (2*y - y**2)\n",
        "\n",
        "# Número de términos en la solución aproximada\n",
        "N_terms = 3  # puedes aumentar este valor para mayor precisión\n",
        "\n",
        "# Cálculo del coeficiente A_mn\n",
        "def A_mn(m, n):\n",
        "    integrand = lambda x, y: f(x, y) * np.sin(m * np.pi * x / a) * np.sin(n * np.pi * y / b)\n",
        "    integral, _ = dblquad(integrand, 0, a, lambda x: 0, lambda x: b)\n",
        "    return (4 / (a * b)) * integral\n",
        "\n",
        "# Solución u(x, y, t)\n",
        "def u(x, y, t):\n",
        "    suma = 0\n",
        "    for m in range(1, N_terms + 1):\n",
        "        for n in range(1, N_terms + 1):\n",
        "            Amn = A_mn(m, n)\n",
        "            omega_mn = c * np.pi * np.sqrt((m/a)**2 + (n/b)**2)\n",
        "            term = Amn * np.sin(m * np.pi * x / a) * np.sin(n * np.pi * y / b) * np.cos(omega_mn * t)\n",
        "            suma += term\n",
        "    return suma\n",
        "\n",
        "# Evaluación en el centro de la membrana en t = 0\n",
        "x_eval, y_eval, t_eval = 2, 1, 0\n",
        "resultado = u(x_eval, y_eval, t_eval)\n",
        "\n",
        "# Mostrar resultado\n",
        "print(f\"u({x_eval}, {y_eval}, {t_eval}) ≈ {resultado:.4f}\")"
      ],
      "metadata": {
        "colab": {
          "base_uri": "https://localhost:8080/"
        },
        "id": "tsuR0hx5gokD",
        "outputId": "661ac3cc-35d7-442e-ef8a-faef00c83d27"
      },
      "execution_count": 3,
      "outputs": [
        {
          "output_type": "stream",
          "name": "stdout",
          "text": [
            "u(2, 1, 0) ≈ 0.6749\n"
          ]
        }
      ]
    },
    {
      "cell_type": "code",
      "source": [
        "import numpy as np\n",
        "\n",
        "#Parámetros del problema\n",
        "a, b = 4, 2\n",
        "c = 5 / 4  # velocidad dada en la fórmula\n",
        "A_base = 0.426050  # factor común en los coeficientes\n",
        "\n",
        "#Número de términos (solo impares)\n",
        "N_terms = 5  # hasta m = 9 y n = 9 si se desea más precisión\n",
        "\n",
        "#Solución u(x, y, t)\n",
        "def u(x, y, t):\n",
        "    suma = 0\n",
        "    for m in range(1, 2 * N_terms, 2):  # m impar\n",
        "        for n in range(1, 2 * N_terms, 2):  # n impar\n",
        "            Amn = A_base / (m**3 * n**3)\n",
        "            omega_mn = c * np.pi * np.sqrt((m/a)**2 + (n/b)**2)\n",
        "            term = Amn * np.sin(m * np.pi * x / a) * np.sin(n * np.pi * y / b) * np.cos(omega_mn * t)\n",
        "            suma += term\n",
        "    return suma\n",
        "\n",
        "#Evaluación en el centro de la membrana\n",
        "x_eval, y_eval, t_eval = 2, 1, 0\n",
        "resultado = u(x_eval, y_eval, t_eval)\n",
        "\n",
        "print(f\"u({x_eval}, {y_eval}, {t_eval}) ≈ {resultado:.6f}\")"
      ],
      "metadata": {
        "colab": {
          "base_uri": "https://localhost:8080/"
        },
        "id": "57gJbqDahMJL",
        "outputId": "43b833a5-63e3-410a-a396-a7470c63279c"
      },
      "execution_count": 4,
      "outputs": [
        {
          "output_type": "stream",
          "name": "stdout",
          "text": [
            "u(2, 1, 0) ≈ 0.400391\n"
          ]
        }
      ]
    },
    {
      "cell_type": "code",
      "source": [],
      "metadata": {
        "id": "kJ4bvE6mh2Qs"
      },
      "execution_count": null,
      "outputs": []
    }
  ]
}