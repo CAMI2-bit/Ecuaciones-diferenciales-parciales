{
  "nbformat": 4,
  "nbformat_minor": 0,
  "metadata": {
    "colab": {
      "provenance": [],
      "include_colab_link": true
    },
    "kernelspec": {
      "name": "python3",
      "display_name": "Python 3"
    },
    "language_info": {
      "name": "python"
    }
  },
  "cells": [
    {
      "cell_type": "markdown",
      "metadata": {
        "id": "view-in-github",
        "colab_type": "text"
      },
      "source": [
        "<a href=\"https://colab.research.google.com/github/CAMI2-bit/Ecuaciones-diferenciales-parciales/blob/main/Series_de_Fourier_Generalizadas.ipynb\" target=\"_parent\"><img src=\"https://colab.research.google.com/assets/colab-badge.svg\" alt=\"Open In Colab\"/></a>"
      ]
    },
    {
      "cell_type": "markdown",
      "source": [
        "Importamos las librerias"
      ],
      "metadata": {
        "id": "rOiRM4RrQajs"
      }
    },
    {
      "cell_type": "code",
      "execution_count": 21,
      "metadata": {
        "id": "l5MN9ZXlJbzR"
      },
      "outputs": [],
      "source": [
        "from sympy import Function, dsolve, Eq, Derivative, symbols, simplify, exp, solve"
      ]
    },
    {
      "cell_type": "markdown",
      "source": [
        "Definimos"
      ],
      "metadata": {
        "id": "SkhzbbISQfCZ"
      }
    },
    {
      "cell_type": "code",
      "source": [
        "x, lam = symbols('x λ')\n",
        "f = Function('f')"
      ],
      "metadata": {
        "id": "zQI3-mWAJ0CI"
      },
      "execution_count": 22,
      "outputs": []
    },
    {
      "cell_type": "markdown",
      "source": [
        "Ecuaciion Diferencial"
      ],
      "metadata": {
        "id": "vbZ96gEXQnR0"
      }
    },
    {
      "cell_type": "code",
      "source": [
        "ode = Eq(lam*f(x) + 2*Derivative(f(x), x) + Derivative(f(x), x, x), 0)\n",
        "ode"
      ],
      "metadata": {
        "colab": {
          "base_uri": "https://localhost:8080/",
          "height": 54
        },
        "id": "v6tq83KHPosy",
        "outputId": "49f3c0fa-b87d-4489-8296-57f06d7d58eb"
      },
      "execution_count": 24,
      "outputs": [
        {
          "output_type": "execute_result",
          "data": {
            "text/plain": [
              "Eq(λ*f(x) + 2*Derivative(f(x), x) + Derivative(f(x), (x, 2)), 0)"
            ],
            "text/latex": "$\\displaystyle λ f{\\left(x \\right)} + 2 \\frac{d}{d x} f{\\left(x \\right)} + \\frac{d^{2}}{d x^{2}} f{\\left(x \\right)} = 0$"
          },
          "metadata": {},
          "execution_count": 24
        }
      ]
    },
    {
      "cell_type": "markdown",
      "source": [
        "Resolviendo la ecuacion"
      ],
      "metadata": {
        "id": "VycqmLlRQt8Y"
      }
    },
    {
      "cell_type": "code",
      "source": [
        "sol = dsolve(ode, f(x))\n",
        "sol"
      ],
      "metadata": {
        "colab": {
          "base_uri": "https://localhost:8080/",
          "height": 42
        },
        "id": "YUYkCjDvJ7zy",
        "outputId": "d2bafd71-aac9-4a80-f868-1e4b824d8f25"
      },
      "execution_count": 20,
      "outputs": [
        {
          "output_type": "execute_result",
          "data": {
            "text/plain": [
              "Eq(f(x), C1*exp(x*(sqrt(1 - λ) - 1)) + C2*exp(-x*(sqrt(1 - λ) + 1)))"
            ],
            "text/latex": "$\\displaystyle f{\\left(x \\right)} = C_{1} e^{x \\left(\\sqrt{1 - λ} - 1\\right)} + C_{2} e^{- x \\left(\\sqrt{1 - λ} + 1\\right)}$"
          },
          "metadata": {},
          "execution_count": 20
        }
      ]
    },
    {
      "cell_type": "markdown",
      "source": [
        "donde $r$ son las raíces de $r^2+2r+λ=0$\n",
        "\n",
        "\n",
        "Aplicamos condiciones de frontera:"
      ],
      "metadata": {
        "id": "IvH3pjFmKR14"
      }
    },
    {
      "cell_type": "markdown",
      "source": [
        "Importando las librerias"
      ],
      "metadata": {
        "id": "9J7VJDTMRPwm"
      }
    },
    {
      "cell_type": "code",
      "source": [
        "from sympy import symbols, Eq, solve, exp, simplify, sqrt"
      ],
      "metadata": {
        "id": "V9uqmjhfRNdJ"
      },
      "execution_count": 26,
      "outputs": []
    },
    {
      "cell_type": "markdown",
      "source": [
        "Definiendo"
      ],
      "metadata": {
        "id": "bBqiADh1RUsT"
      }
    },
    {
      "cell_type": "code",
      "source": [
        "C1, C2 = symbols('C1 C2')\n",
        "r = symbols('r')"
      ],
      "metadata": {
        "id": "d3V_9QyqRSVi"
      },
      "execution_count": 27,
      "outputs": []
    },
    {
      "cell_type": "markdown",
      "source": [
        "Solucion de las raices"
      ],
      "metadata": {
        "id": "q_UzJ8vxRYr_"
      }
    },
    {
      "cell_type": "code",
      "source": [
        "r1 = -1 + sqrt(1 - lam)\n",
        "r1"
      ],
      "metadata": {
        "colab": {
          "base_uri": "https://localhost:8080/",
          "height": 38
        },
        "id": "-9HTBUioRc9x",
        "outputId": "8b396769-4334-4eaf-f0fa-22a4d64fc7ae"
      },
      "execution_count": 29,
      "outputs": [
        {
          "output_type": "execute_result",
          "data": {
            "text/plain": [
              "sqrt(1 - λ) - 1"
            ],
            "text/latex": "$\\displaystyle \\sqrt{1 - λ} - 1$"
          },
          "metadata": {},
          "execution_count": 29
        }
      ]
    },
    {
      "cell_type": "code",
      "source": [
        "r2 = -1 - sqrt(1 - lam)\n",
        "r2"
      ],
      "metadata": {
        "colab": {
          "base_uri": "https://localhost:8080/",
          "height": 38
        },
        "id": "YBltOmzvSPdK",
        "outputId": "bd63d817-d51e-43a8-d800-f73efc10c374"
      },
      "execution_count": 30,
      "outputs": [
        {
          "output_type": "execute_result",
          "data": {
            "text/plain": [
              "-sqrt(1 - λ) - 1"
            ],
            "text/latex": "$\\displaystyle - \\sqrt{1 - λ} - 1$"
          },
          "metadata": {},
          "execution_count": 30
        }
      ]
    },
    {
      "cell_type": "markdown",
      "source": [
        "Solucion General"
      ],
      "metadata": {
        "id": "fuOFsFldRfsC"
      }
    },
    {
      "cell_type": "code",
      "source": [
        "f_expr = C1 * exp(r1 * x) + C2 * exp(r2 * x)\n",
        "f_expr"
      ],
      "metadata": {
        "colab": {
          "base_uri": "https://localhost:8080/",
          "height": 42
        },
        "id": "bRXVJ5k7Ri7H",
        "outputId": "257226ee-8f7d-429a-c355-b0a78691cc4d"
      },
      "execution_count": 31,
      "outputs": [
        {
          "output_type": "execute_result",
          "data": {
            "text/plain": [
              "C1*exp(x*(sqrt(1 - λ) - 1)) + C2*exp(x*(-sqrt(1 - λ) - 1))"
            ],
            "text/latex": "$\\displaystyle C_{1} e^{x \\left(\\sqrt{1 - λ} - 1\\right)} + C_{2} e^{x \\left(- \\sqrt{1 - λ} - 1\\right)}$"
          },
          "metadata": {},
          "execution_count": 31
        }
      ]
    },
    {
      "cell_type": "markdown",
      "source": [
        "Condiciones de frontera"
      ],
      "metadata": {
        "id": "ExcxHUWgRpCC"
      }
    },
    {
      "cell_type": "code",
      "source": [
        "bc1 = Eq(f_expr.subs(x, 0), 0)\n",
        "bc1"
      ],
      "metadata": {
        "colab": {
          "base_uri": "https://localhost:8080/",
          "height": 38
        },
        "id": "DHMCumWbRrpX",
        "outputId": "e695cae2-00a3-477f-cc18-d2ffba622cfd"
      },
      "execution_count": 32,
      "outputs": [
        {
          "output_type": "execute_result",
          "data": {
            "text/plain": [
              "Eq(C1 + C2, 0)"
            ],
            "text/latex": "$\\displaystyle C_{1} + C_{2} = 0$"
          },
          "metadata": {},
          "execution_count": 32
        }
      ]
    },
    {
      "cell_type": "code",
      "source": [
        "bc2 = Eq(f_expr.subs(x, 1), 0)\n",
        "bc2"
      ],
      "metadata": {
        "colab": {
          "base_uri": "https://localhost:8080/",
          "height": 41
        },
        "id": "UOCR0FlVSoRD",
        "outputId": "237160bb-55fb-4d5e-9dcd-f15f70159da5"
      },
      "execution_count": 33,
      "outputs": [
        {
          "output_type": "execute_result",
          "data": {
            "text/plain": [
              "Eq(C1*exp(sqrt(1 - λ) - 1) + C2*exp(-sqrt(1 - λ) - 1), 0)"
            ],
            "text/latex": "$\\displaystyle C_{1} e^{\\sqrt{1 - λ} - 1} + C_{2} e^{- \\sqrt{1 - λ} - 1} = 0$"
          },
          "metadata": {},
          "execution_count": 33
        }
      ]
    },
    {
      "cell_type": "markdown",
      "source": [
        "Resolviendo el sistema"
      ],
      "metadata": {
        "id": "2ANQP0-XRvqX"
      }
    },
    {
      "cell_type": "code",
      "source": [
        "from sympy import Matrix\n",
        "\n",
        "M = Matrix([\n",
        "    [exp(r1*0), exp(r2*0)],\n",
        "    [exp(r1*1), exp(r2*1)]\n",
        "])\n",
        "\n",
        "det_M = M.det()\n",
        "simplify(det_M)"
      ],
      "metadata": {
        "colab": {
          "base_uri": "https://localhost:8080/",
          "height": 47
        },
        "id": "o4FPb-qaR9CB",
        "outputId": "17c605f4-dd7f-416f-cf01-13f87513ebda"
      },
      "execution_count": 34,
      "outputs": [
        {
          "output_type": "execute_result",
          "data": {
            "text/plain": [
              "(1 - exp(2*sqrt(1 - λ)))*exp(-sqrt(1 - λ) - 1)"
            ],
            "text/latex": "$\\displaystyle \\left(1 - e^{2 \\sqrt{1 - λ}}\\right) e^{- \\sqrt{1 - λ} - 1}$"
          },
          "metadata": {},
          "execution_count": 34
        }
      ]
    },
    {
      "cell_type": "markdown",
      "source": [
        "Resolviendo la parte b)"
      ],
      "metadata": {
        "id": "5lZEbVKQMR7s"
      }
    },
    {
      "cell_type": "code",
      "source": [
        "import numpy as np\n",
        "import matplotlib.pyplot as plt\n",
        "from sympy import symbols, sin, pi, exp, integrate, simplify\n"
      ],
      "metadata": {
        "id": "kmNO5-qTUEHP"
      },
      "execution_count": 36,
      "outputs": []
    },
    {
      "cell_type": "code",
      "source": [
        "def u(x):\n",
        "    return np.exp(-x)\n",
        "\n",
        "def fourier_series(x, N_terms=10):\n",
        "    approx = np.zeros_like(x)\n",
        "    for n in range(1, N_terms + 1):\n",
        "        if n % 2 == 0:\n",
        "            continue\n",
        "        cn = 2 / (np.pi * n)\n",
        "        fn = 2 * np.exp(-x) * np.sin(n * np.pi * x)\n",
        "        approx += cn * fn\n",
        "    return approx\n",
        "    approx"
      ],
      "metadata": {
        "id": "1q0WjVb4UMWJ"
      },
      "execution_count": 40,
      "outputs": []
    },
    {
      "cell_type": "markdown",
      "source": [
        "Graficando"
      ],
      "metadata": {
        "id": "Ey_j-AQWUSn5"
      }
    },
    {
      "cell_type": "code",
      "source": [
        "x_vals = np.linspace(0, 1, 400)\n",
        "u_vals = u(x_vals)\n",
        "approx_vals = fourier_series(x_vals, N_terms=10)\n",
        "\n",
        "plt.plot(x_vals, u_vals, label=\"u(x) = e^{-x}\", color=\"black\")\n",
        "plt.plot(x_vals, approx_vals, label=\"Serie N=10\", linestyle=\"--\", color=\"orange\")\n",
        "plt.xlabel(\"x\")\n",
        "plt.ylabel(\"u(x)\")\n",
        "plt.title(\"Expansión de Fourier generalizada de $e^{-x}$\")\n",
        "plt.legend()\n",
        "plt.grid(True)\n",
        "plt.show()\n"
      ],
      "metadata": {
        "colab": {
          "base_uri": "https://localhost:8080/",
          "height": 475
        },
        "id": "KFvJqBXDNJxq",
        "outputId": "58ea0cd0-fe17-47f1-879f-a341dbddf8c1"
      },
      "execution_count": 39,
      "outputs": [
        {
          "output_type": "display_data",
          "data": {
            "text/plain": [
              "<Figure size 640x480 with 1 Axes>"
            ],
            "image/png": "[encoded data removed]"
          },
          "metadata": {}
        }
      ]
    }
  ]
}