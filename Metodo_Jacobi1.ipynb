{
  "nbformat": 4,
  "nbformat_minor": 0,
  "metadata": {
    "colab": {
      "provenance": [],
      "authorship_tag": "ABX9TyN1ykF4GcAKOt//EBrwRNzm",
      "include_colab_link": true
    },
    "kernelspec": {
      "name": "python3",
      "display_name": "Python 3"
    },
    "language_info": {
      "name": "python"
    }
  },
  "cells": [
    {
      "cell_type": "markdown",
      "metadata": {
        "id": "view-in-github",
        "colab_type": "text"
      },
      "source": [
        "<a href=\"https://colab.research.google.com/github/CAMI2-bit/Ecuaciones-diferenciales-parciales/blob/main/Metodo_Jacobi1.ipynb\" target=\"_parent\"><img src=\"https://colab.research.google.com/assets/colab-badge.svg\" alt=\"Open In Colab\"/></a>"
      ]
    },
    {
      "cell_type": "markdown",
      "source": [
        "###METODO JACOBI"
      ],
      "metadata": {
        "id": "ALQNKxlXSVIk"
      }
    },
    {
      "cell_type": "markdown",
      "source": [
        "Importamos las librerías\n",
        "\n",
        "\n",
        "*   La libreria numpy que nos permite trabajar con vectores, matrices"
      ],
      "metadata": {
        "id": "ySNaRJ40Stpi"
      }
    },
    {
      "cell_type": "code",
      "execution_count": null,
      "metadata": {
        "id": "DywihHFkST2c"
      },
      "outputs": [],
      "source": [
        "import numpy as np\n"
      ]
    },
    {
      "cell_type": "markdown",
      "source": [
        "Método de Jacobi para resolver sistemas de ecuaciones lineales\n",
        "    \n",
        "    Parámetros:\n",
        "    A: matriz de coeficientes\n",
        "    b: vector de términos independientes\n",
        "    x0: aproximación inicial\n",
        "    tol: tolerancia para la convergencia\n",
        "    max_iter: número máximo de iteraciones\n",
        "   \n",
        "   Devuelve la aproximación final y el historial de iteraciones.\n",
        "\n"
      ],
      "metadata": {
        "id": "tBfSasu2SlWr"
      }
    },
    {
      "cell_type": "markdown",
      "source": [
        "Definimos la funcion Jacobi"
      ],
      "metadata": {
        "id": "yfxALg0oS0u7"
      }
    },
    {
      "cell_type": "code",
      "source": [
        "def jacobi_method(A, b, x0, tol=1e-6, max_iter=100):\n",
        "    \"\"\"\n",
        "    Método de Jacobi para resolver sistemas de ecuaciones lineales\n",
        "\n",
        "    Parámetros:\n",
        "    A: matriz de coeficientes\n",
        "    b: vector de términos independientes\n",
        "    x0: aproximación inicial\n",
        "    tol: tolerancia para la convergencia\n",
        "    max_iter: número máximo de iteraciones\n",
        "\n",
        "    Retorna:\n",
        "    x: solución aproximada\n",
        "    history: historial de iteraciones\n",
        "    \"\"\"\n"
      ],
      "metadata": {
        "id": "htpmymZFS3VM"
      },
      "execution_count": null,
      "outputs": []
    },
    {
      "cell_type": "markdown",
      "source": [
        "Variables:\n",
        "\n",
        "\n",
        "*   n: dimensión del sistema (número de incógnitas)\n",
        "*   x: copia del vector inicial x0\n",
        "\n",
        "*   x_1: vector donde se almacenará la nueva iteración\n",
        "*   h: lista para guardar los resultados de cada iteración.\n"
      ],
      "metadata": {
        "id": "IeKgLiCGTCLF"
      }
    },
    {
      "cell_type": "code",
      "source": [
        "def jacobi_method(A, b, x0, tol=1e-6, max_iter=100):\n",
        "    \"\"\"\n",
        "    Método de Jacobi para resolver sistemas de ecuaciones lineales\n",
        "\n",
        "    Parámetros:\n",
        "    A: matriz de coeficientes\n",
        "    b: vector de términos independientes\n",
        "    x0: aproximación inicial\n",
        "    tol: tolerancia para la convergencia\n",
        "    max_iter: número máximo de iteraciones\n",
        "\n",
        "    Retorna:\n",
        "    x: solución aproximada\n",
        "    history: historial de iteraciones\n",
        "    \"\"\"\n",
        "\n",
        "    n = len(b)\n",
        "    x = np.copy(x0)\n",
        "    x_new = np.zeros(n)\n",
        "    history = []\n"
      ],
      "metadata": {
        "id": "ESwn9OKmTI2E"
      },
      "execution_count": null,
      "outputs": []
    },
    {
      "cell_type": "markdown",
      "source": [
        "Imprime el encabezado"
      ],
      "metadata": {
        "id": "lGabfzlYTf8K"
      }
    },
    {
      "cell_type": "code",
      "source": [
        "def jacobi_method(A, b, x0, tol=1e-6, max_iter=100):\n",
        "    \"\"\"\n",
        "    Método de Jacobi para resolver sistemas de ecuaciones lineales\n",
        "\n",
        "    Parámetros:\n",
        "    A: matriz de coeficientes\n",
        "    b: vector de términos independientes\n",
        "    x0: aproximación inicial\n",
        "    tol: tolerancia para la convergencia\n",
        "    max_iter: número máximo de iteraciones\n",
        "\n",
        "    Retorna:\n",
        "    x: solución aproximada\n",
        "    history: historial de iteraciones\n",
        "    \"\"\"\n",
        "\n",
        "    n = len(b)\n",
        "    x = np.copy(x0)\n",
        "    x_new = np.zeros(n)\n",
        "    history = []\n",
        "\n",
        "\n",
        "    print(\"Método de Jacobi\")\n",
        "    print(\"Iteración |\", \" | \".join([f\"x{i+1}\" for i in range(n)]), \"| Error\")\n",
        "    print(\"-\" * 60)\n"
      ],
      "metadata": {
        "id": "OJ7P-56bTjwI"
      },
      "execution_count": null,
      "outputs": []
    },
    {
      "cell_type": "code",
      "source": [
        "import numpy as np\n",
        "\n",
        "def jacobi_method(A, b, x0, tol=1e-6, max_iter=100):\n",
        "    \"\"\"\n",
        "    Método de Jacobi para resolver sistemas de ecuaciones lineales\n",
        "\n",
        "    Parámetros:\n",
        "    A: matriz de coeficientes\n",
        "    b: vector de términos independientes\n",
        "    x0: aproximación inicial\n",
        "    tol: tolerancia para la convergencia\n",
        "    max_iter: número máximo de iteraciones\n",
        "\n",
        "    Retorna:\n",
        "    x: solución aproximada\n",
        "    history: historial de iteraciones\n",
        "    \"\"\"\n",
        "    n = len(b)\n",
        "    x = np.copy(x0)\n",
        "    x_new = np.zeros(n)\n",
        "    history = []\n",
        "\n",
        "\n",
        "    print(\"Método de Jacobi\")\n",
        "    print(\"Iteración |\", \" | \".join([f\"x{i+1}\" for i in range(n)]), \"| Error\")\n",
        "    print(\"-\" * 60)\n",
        "\n",
        "    #Bucle principal del método\n",
        "    for k in range(max_iter):\n",
        "        for i in range(n):\n",
        "            suma = 0\n",
        "            for j in range(n):\n",
        "                if j != i:\n",
        "                    suma += A[i, j] * x[j]\n",
        "            #Fórmula de Jacobi\n",
        "            x_new[i] = (b[i] - suma) / A[i, i]\n",
        "\n",
        "        #norma infinito\n",
        "        error = np.linalg.norm(x_new - x, np.inf)\n",
        "\n",
        "\n",
        "        history.append({\n",
        "            'iteration': k + 1,\n",
        "            'x': np.copy(x_new),\n",
        "            'error': error\n",
        "        })\n",
        "\n",
        "\n",
        "        x_values = \" | \".join([f\"{val:.8f}\" for val in x_new])\n",
        "        print(f\"{k+1:9d} | {x_values} | {error:.8e}\")\n",
        "\n",
        "\n",
        "        if error < tol:\n",
        "            print(\"\\n¡Convergencia alcanzada!\")\n",
        "            return x_new, history\n",
        "\n",
        "\n",
        "        x = np.copy(x_new)\n",
        "\n",
        "\n",
        "    print(\"\\n¡Número máximo de iteraciones alcanzado!\")\n",
        "    return x, history\n",
        "\n",
        "A = np.array([\n",
        "    [1.0, -1/4, -1/4, 0.0],\n",
        "    [-1/4, 1.0, 0.0, -1/4],\n",
        "    [-1/4, 0.0, 1.0, -1/4],\n",
        "    [0.0, -1/4, -1/4, 1.0]\n",
        "])\n",
        "\n",
        "b = np.array([0.0, 2/9, 1/6, 7/18])\n",
        "\n",
        "x0 = np.array([7/27, 7/27, 7/27, 7/27])\n",
        "\n",
        "solucion, historial = jacobi_method(A, b, x0, tol=1e-6, max_iter=20)\n",
        "\n",
        "#solución aproximada final\n",
        "print(\"\\nSolución aproximada:\")\n",
        "print(solucion)\n",
        "\n"
      ],
      "metadata": {
        "colab": {
          "base_uri": "https://localhost:8080/"
        },
        "id": "-K3vs5viUF2l",
        "outputId": "7d3da2e1-802b-4be0-cd97-213f76312dbe"
      },
      "execution_count": null,
      "outputs": [
        {
          "output_type": "stream",
          "name": "stdout",
          "text": [
            "Método de Jacobi\n",
            "Iteración | x1 | x2 | x3 | x4 | Error\n",
            "------------------------------------------------------------\n",
            "        1 | 0.12962963 | 0.35185185 | 0.29629630 | 0.51851852 | 2.59259259e-01\n",
            "        2 | 0.16203704 | 0.38425926 | 0.32870370 | 0.55092593 | 3.24074074e-02\n",
            "        3 | 0.17824074 | 0.40046296 | 0.34490741 | 0.56712963 | 1.62037037e-02\n",
            "        4 | 0.18634259 | 0.40856481 | 0.35300926 | 0.57523148 | 8.10185185e-03\n",
            "        5 | 0.19039352 | 0.41261574 | 0.35706019 | 0.57928241 | 4.05092593e-03\n",
            "        6 | 0.19241898 | 0.41464120 | 0.35908565 | 0.58130787 | 2.02546296e-03\n",
            "        7 | 0.19343171 | 0.41565394 | 0.36009838 | 0.58232060 | 1.01273148e-03\n",
            "        8 | 0.19393808 | 0.41616030 | 0.36060475 | 0.58282697 | 5.06365741e-04\n",
            "        9 | 0.19419126 | 0.41641348 | 0.36085793 | 0.58308015 | 2.53182870e-04\n",
            "       10 | 0.19431785 | 0.41654008 | 0.36098452 | 0.58320674 | 1.26591435e-04\n",
            "       11 | 0.19438115 | 0.41660337 | 0.36104782 | 0.58327004 | 6.32957176e-05\n",
            "       12 | 0.19441280 | 0.41663502 | 0.36107946 | 0.58330169 | 3.16478588e-05\n",
            "       13 | 0.19442862 | 0.41665084 | 0.36109529 | 0.58331751 | 1.58239294e-05\n",
            "       14 | 0.19443653 | 0.41665875 | 0.36110320 | 0.58332542 | 7.91196470e-06\n",
            "       15 | 0.19444049 | 0.41666271 | 0.36110716 | 0.58332938 | 3.95598235e-06\n",
            "       16 | 0.19444247 | 0.41666469 | 0.36110913 | 0.58333136 | 1.97799117e-06\n",
            "       17 | 0.19444346 | 0.41666568 | 0.36111012 | 0.58333234 | 9.88995587e-07\n",
            "\n",
            "¡Convergencia alcanzada!\n",
            "\n",
            "Solución aproximada:\n",
            "[0.19444346 0.41666568 0.36111012 0.58333234]\n"
          ]
        }
      ]
    }
  ]
}